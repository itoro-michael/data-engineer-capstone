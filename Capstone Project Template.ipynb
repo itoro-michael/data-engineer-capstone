{
 "cells": [
  {
   "cell_type": "markdown",
   "metadata": {},
   "source": [
    "# Project Title\n",
    "### Data Engineering Capstone Project\n",
    "\n",
    "#### Project Summary\n",
    "\n",
    "This project is the capstone project of the Data Engineer Nanodegree program offered by Udacity. There are four datasets being considered in this project, which are: the I94 Immigration Data, World Temperature Data, U.S. City Demographic Data, and the Airport Code Table, details of the mentioned datasets are provided in subsequent code windows. \n",
    "\n",
    "The purpose of this project is to assess the provided datasets and create a data model for a data warehouse that is capable of hosting the data obtained from the provided datasets.\n",
    "\n",
    "The project follows the following steps:\n",
    "* Step 1: Scope the Project and Gather Data\n",
    "* Step 2: Explore and Assess the Data\n",
    "* Step 3: Define the Data Model\n",
    "* Step 4: Run ETL to Model the Data\n",
    "* Step 5: Complete Project Write Up"
   ]
  },
  {
   "cell_type": "code",
   "execution_count": 1,
   "metadata": {},
   "outputs": [],
   "source": [
    "# Do all imports and installs here\n",
    "import numpy as np\n",
    "import pandas as pd\n",
    "import matplotlib.pyplot as plt\n",
    "import glob\n",
    "from pyspark.sql import SparkSession\n",
    "from pathlib import Path"
   ]
  },
  {
   "cell_type": "code",
   "execution_count": 2,
   "metadata": {},
   "outputs": [],
   "source": [
    "pd.set_option('display.max_columns', None)"
   ]
  },
  {
   "cell_type": "markdown",
   "metadata": {},
   "source": [
    "### Step 1: Scope the Project and Gather Data\n",
    "\n",
    "#### Scope \n",
    "Explain what you plan to do in the project in more detail. What data do you use? What is your end solution look like? What tools did you use?\n",
    "\n",
    "\n",
    "The aim of this project is to create a data model from the provided datasets. The model will be made up of dimension and fact tables, and the implementation of the model will be accomplished using the pandas dataframe and pyspark. Only US data elements are being considered for the present scope of the project.\n",
    "\n",
    "#### Describe and Gather Data \n",
    "Describe the data sets you're using. Where did it come from? What type of information is included? \n",
    "\n",
    "The datasets in the project are:\n",
    "1) I94 Immigration Data: This data comes from [the US National Tourism and Trade Office](https://travel.trade.gov/research/reports/i94/historical/2016.html).\n",
    "\n",
    "2) World Temperature Data: This dataset is hosted on [Kaggle](https://www.kaggle.com/berkeleyearth/climate-change-earth-surface-temperature-data).\n",
    "\n",
    "3) U.S. City Demographic Data: This data comes from [OpenSoft](https://public.opendatasoft.com/explore/dataset/us-cities-demographics/export/).\n",
    "\n",
    "4) Airport Code Table: This is a dataset of airport codes and corresponding cities. It can be found [here](https://datahub.io/core/airport-codes#data)."
   ]
  },
  {
   "cell_type": "code",
   "execution_count": 3,
   "metadata": {},
   "outputs": [],
   "source": [
    "spark = SparkSession.builder.\\\n",
    "config(\"spark.jars.repositories\", \"https://repos.spark-packages.org/\").\\\n",
    "config(\"spark.jars.packages\", \"saurfang:spark-sas7bdat:2.0.0-s_2.11\").\\\n",
    "enableHiveSupport().getOrCreate()\n",
    "\n",
    "# df_spark = spark.read.format('com.github.saurfang.sas.spark').load('../../data/18-83510-I94-Data-2016/i94_apr16_sub.sas7bdat')\n"
   ]
  },
  {
   "cell_type": "code",
   "execution_count": 4,
   "metadata": {},
   "outputs": [],
   "source": [
    "def show_col_nan(df: pd.DataFrame):\n",
    "    \"\"\" This function plots a barchart showing the size of nulls in\n",
    "        DataFrame column.\n",
    "    Args:\n",
    "        df (pd.DataFrame): The analysed dataset.\n",
    "    Returns:\n",
    "        None\n",
    "    \"\"\"\n",
    "    nan_count_per_col = df.isnull().sum(axis = 0)\n",
    "    plt.figure(figsize=(15,5))\n",
    "    plt.title('Count of nulls in columns')\n",
    "    nan_count_per_col.plot.bar()\n",
    "    plt.show()\n",
    "    "
   ]
  },
  {
   "cell_type": "code",
   "execution_count": 5,
   "metadata": {},
   "outputs": [],
   "source": [
    "# Read in the immigration schema description to\n",
    "# denormalise dataset \n",
    "\n",
    "def read_label(file_name:str, l1:int, l2:int) -> dict:\n",
    "    \"\"\" Read lines of schema description file and return content \n",
    "        as a dictionary.\n",
    "    Args:\n",
    "        file_name (str): The schema description filename.\n",
    "        l1 (int): The starting line index of description file.\n",
    "        l2 (int): The end line index of description file.\n",
    "    Returns:\n",
    "        pd.DataFrame: Dictionary of read content.\n",
    "    \"\"\"\n",
    "    dict_label = {}\n",
    "    with open(file_name) as f:\n",
    "        for i, line in enumerate(f):\n",
    "            if not (i >= l1 and i <= l2):\n",
    "                continue\n",
    "            list_label = line.strip().split(\"=\")\n",
    "            dict_label[list_label[0].strip()] = list_label[1].strip().replace(\"'\", \"\")\n",
    "    return dict_label"
   ]
  },
  {
   "cell_type": "code",
   "execution_count": 6,
   "metadata": {},
   "outputs": [],
   "source": [
    "def clean_port(x:str):\n",
    "    \"\"\" Private function for regularising the `ident` column.\n",
    "    Args:\n",
    "        x (str): Data item.\n",
    "    Returns:\n",
    "        str: Modified data item.\n",
    "    \"\"\"\n",
    "    if ((x is not None) and \n",
    "        x.startswith(\"K\") and\n",
    "       (len(x) > 3)):\n",
    "        return x[1:]\n",
    "    return x"
   ]
  },
  {
   "cell_type": "code",
   "execution_count": 7,
   "metadata": {},
   "outputs": [],
   "source": [
    "AIRPORT_INPUT_FILE = \"airport-codes_csv.csv\"\n",
    "AIRPORT_OUTPUT_FILE = \"dwh/airport.parquet\"\n",
    "\n",
    "CITY_DEMO_INPUT_FILE = \"us-cities-demographics.csv\"\n",
    "CITY_DEMO_OUTPUT_FILE = \"dwh/city_demography.parquet\"\n",
    "\n",
    "I94_INPUT_FILE = \"sas_data\"\n",
    "I94_OUTPUT_FILE = \"dwh/immigration.parquet\"\n",
    "\n",
    "TEMP_INPUT_FILE = \"GlobalLandTemperaturesByCity.csv\"\n",
    "TEMP_OUTPUT_FILE = \"dwh/temperature.parquet\""
   ]
  },
  {
   "cell_type": "code",
   "execution_count": 8,
   "metadata": {},
   "outputs": [],
   "source": [
    "# Read in the data here\n",
    "airport_df = pd.read_csv(AIRPORT_INPUT_FILE)"
   ]
  },
  {
   "cell_type": "code",
   "execution_count": 9,
   "metadata": {},
   "outputs": [
    {
     "data": {
      "text/html": [
       "<div>\n",
       "<style scoped>\n",
       "    .dataframe tbody tr th:only-of-type {\n",
       "        vertical-align: middle;\n",
       "    }\n",
       "\n",
       "    .dataframe tbody tr th {\n",
       "        vertical-align: top;\n",
       "    }\n",
       "\n",
       "    .dataframe thead th {\n",
       "        text-align: right;\n",
       "    }\n",
       "</style>\n",
       "<table border=\"1\" class=\"dataframe\">\n",
       "  <thead>\n",
       "    <tr style=\"text-align: right;\">\n",
       "      <th></th>\n",
       "      <th>ident</th>\n",
       "      <th>type</th>\n",
       "      <th>name</th>\n",
       "      <th>elevation_ft</th>\n",
       "      <th>continent</th>\n",
       "      <th>iso_country</th>\n",
       "      <th>iso_region</th>\n",
       "      <th>municipality</th>\n",
       "      <th>gps_code</th>\n",
       "      <th>iata_code</th>\n",
       "      <th>local_code</th>\n",
       "      <th>coordinates</th>\n",
       "    </tr>\n",
       "  </thead>\n",
       "  <tbody>\n",
       "    <tr>\n",
       "      <th>0</th>\n",
       "      <td>00A</td>\n",
       "      <td>heliport</td>\n",
       "      <td>Total Rf Heliport</td>\n",
       "      <td>11.0</td>\n",
       "      <td>NaN</td>\n",
       "      <td>US</td>\n",
       "      <td>US-PA</td>\n",
       "      <td>Bensalem</td>\n",
       "      <td>00A</td>\n",
       "      <td>NaN</td>\n",
       "      <td>00A</td>\n",
       "      <td>-74.93360137939453, 40.07080078125</td>\n",
       "    </tr>\n",
       "    <tr>\n",
       "      <th>1</th>\n",
       "      <td>00AA</td>\n",
       "      <td>small_airport</td>\n",
       "      <td>Aero B Ranch Airport</td>\n",
       "      <td>3435.0</td>\n",
       "      <td>NaN</td>\n",
       "      <td>US</td>\n",
       "      <td>US-KS</td>\n",
       "      <td>Leoti</td>\n",
       "      <td>00AA</td>\n",
       "      <td>NaN</td>\n",
       "      <td>00AA</td>\n",
       "      <td>-101.473911, 38.704022</td>\n",
       "    </tr>\n",
       "    <tr>\n",
       "      <th>2</th>\n",
       "      <td>00AK</td>\n",
       "      <td>small_airport</td>\n",
       "      <td>Lowell Field</td>\n",
       "      <td>450.0</td>\n",
       "      <td>NaN</td>\n",
       "      <td>US</td>\n",
       "      <td>US-AK</td>\n",
       "      <td>Anchor Point</td>\n",
       "      <td>00AK</td>\n",
       "      <td>NaN</td>\n",
       "      <td>00AK</td>\n",
       "      <td>-151.695999146, 59.94919968</td>\n",
       "    </tr>\n",
       "    <tr>\n",
       "      <th>3</th>\n",
       "      <td>00AL</td>\n",
       "      <td>small_airport</td>\n",
       "      <td>Epps Airpark</td>\n",
       "      <td>820.0</td>\n",
       "      <td>NaN</td>\n",
       "      <td>US</td>\n",
       "      <td>US-AL</td>\n",
       "      <td>Harvest</td>\n",
       "      <td>00AL</td>\n",
       "      <td>NaN</td>\n",
       "      <td>00AL</td>\n",
       "      <td>-86.77030181884766, 34.86479949951172</td>\n",
       "    </tr>\n",
       "    <tr>\n",
       "      <th>4</th>\n",
       "      <td>00AR</td>\n",
       "      <td>closed</td>\n",
       "      <td>Newport Hospital &amp; Clinic Heliport</td>\n",
       "      <td>237.0</td>\n",
       "      <td>NaN</td>\n",
       "      <td>US</td>\n",
       "      <td>US-AR</td>\n",
       "      <td>Newport</td>\n",
       "      <td>NaN</td>\n",
       "      <td>NaN</td>\n",
       "      <td>NaN</td>\n",
       "      <td>-91.254898, 35.6087</td>\n",
       "    </tr>\n",
       "  </tbody>\n",
       "</table>\n",
       "</div>"
      ],
      "text/plain": [
       "  ident           type                                name  elevation_ft  \\\n",
       "0   00A       heliport                   Total Rf Heliport          11.0   \n",
       "1  00AA  small_airport                Aero B Ranch Airport        3435.0   \n",
       "2  00AK  small_airport                        Lowell Field         450.0   \n",
       "3  00AL  small_airport                        Epps Airpark         820.0   \n",
       "4  00AR         closed  Newport Hospital & Clinic Heliport         237.0   \n",
       "\n",
       "  continent iso_country iso_region  municipality gps_code iata_code  \\\n",
       "0       NaN          US      US-PA      Bensalem      00A       NaN   \n",
       "1       NaN          US      US-KS         Leoti     00AA       NaN   \n",
       "2       NaN          US      US-AK  Anchor Point     00AK       NaN   \n",
       "3       NaN          US      US-AL       Harvest     00AL       NaN   \n",
       "4       NaN          US      US-AR       Newport      NaN       NaN   \n",
       "\n",
       "  local_code                            coordinates  \n",
       "0        00A     -74.93360137939453, 40.07080078125  \n",
       "1       00AA                 -101.473911, 38.704022  \n",
       "2       00AK            -151.695999146, 59.94919968  \n",
       "3       00AL  -86.77030181884766, 34.86479949951172  \n",
       "4        NaN                    -91.254898, 35.6087  "
      ]
     },
     "execution_count": 9,
     "metadata": {},
     "output_type": "execute_result"
    }
   ],
   "source": [
    "airport_df.head()"
   ]
  },
  {
   "cell_type": "code",
   "execution_count": 10,
   "metadata": {},
   "outputs": [
    {
     "name": "stdout",
     "output_type": "stream",
     "text": [
      "['ident', 'type', 'name', 'elevation_ft', 'continent', 'iso_country', 'iso_region', 'municipality', 'gps_code', 'iata_code', 'local_code', 'coordinates']\n"
     ]
    }
   ],
   "source": [
    "print(list(airport_df.columns))"
   ]
  },
  {
   "cell_type": "code",
   "execution_count": 11,
   "metadata": {},
   "outputs": [
    {
     "data": {
      "text/html": [
       "<div>\n",
       "<style scoped>\n",
       "    .dataframe tbody tr th:only-of-type {\n",
       "        vertical-align: middle;\n",
       "    }\n",
       "\n",
       "    .dataframe tbody tr th {\n",
       "        vertical-align: top;\n",
       "    }\n",
       "\n",
       "    .dataframe thead th {\n",
       "        text-align: right;\n",
       "    }\n",
       "</style>\n",
       "<table border=\"1\" class=\"dataframe\">\n",
       "  <thead>\n",
       "    <tr style=\"text-align: right;\">\n",
       "      <th></th>\n",
       "      <th>elevation_ft</th>\n",
       "    </tr>\n",
       "  </thead>\n",
       "  <tbody>\n",
       "    <tr>\n",
       "      <th>count</th>\n",
       "      <td>48069.000000</td>\n",
       "    </tr>\n",
       "    <tr>\n",
       "      <th>mean</th>\n",
       "      <td>1240.789677</td>\n",
       "    </tr>\n",
       "    <tr>\n",
       "      <th>std</th>\n",
       "      <td>1602.363459</td>\n",
       "    </tr>\n",
       "    <tr>\n",
       "      <th>min</th>\n",
       "      <td>-1266.000000</td>\n",
       "    </tr>\n",
       "    <tr>\n",
       "      <th>25%</th>\n",
       "      <td>205.000000</td>\n",
       "    </tr>\n",
       "    <tr>\n",
       "      <th>50%</th>\n",
       "      <td>718.000000</td>\n",
       "    </tr>\n",
       "    <tr>\n",
       "      <th>75%</th>\n",
       "      <td>1497.000000</td>\n",
       "    </tr>\n",
       "    <tr>\n",
       "      <th>max</th>\n",
       "      <td>22000.000000</td>\n",
       "    </tr>\n",
       "  </tbody>\n",
       "</table>\n",
       "</div>"
      ],
      "text/plain": [
       "       elevation_ft\n",
       "count  48069.000000\n",
       "mean    1240.789677\n",
       "std     1602.363459\n",
       "min    -1266.000000\n",
       "25%      205.000000\n",
       "50%      718.000000\n",
       "75%     1497.000000\n",
       "max    22000.000000"
      ]
     },
     "execution_count": 11,
     "metadata": {},
     "output_type": "execute_result"
    }
   ],
   "source": [
    "# Show numerical data\n",
    "airport_df.describe()"
   ]
  },
  {
   "cell_type": "code",
   "execution_count": 12,
   "metadata": {},
   "outputs": [
    {
     "data": {
      "text/plain": [
       "(55075, 12)"
      ]
     },
     "execution_count": 12,
     "metadata": {},
     "output_type": "execute_result"
    }
   ],
   "source": [
    "# Get number of rows and columns\n",
    "airport_df.shape"
   ]
  },
  {
   "cell_type": "code",
   "execution_count": 13,
   "metadata": {},
   "outputs": [
    {
     "data": {
      "text/plain": [
       "55075"
      ]
     },
     "execution_count": 13,
     "metadata": {},
     "output_type": "execute_result"
    }
   ],
   "source": [
    "# Check for nulls and duplicates in identity column\n",
    "len(airport_df['ident'].value_counts())"
   ]
  },
  {
   "cell_type": "code",
   "execution_count": 14,
   "metadata": {},
   "outputs": [
    {
     "data": {
      "text/plain": [
       "0"
      ]
     },
     "execution_count": 14,
     "metadata": {},
     "output_type": "execute_result"
    }
   ],
   "source": [
    "# Check for duplicate rows\n",
    "len(airport_df[airport_df.duplicated(keep='first')])"
   ]
  },
  {
   "cell_type": "code",
   "execution_count": 15,
   "metadata": {},
   "outputs": [
    {
     "data": {
      "text/plain": [
       "US    22757\n",
       "BR     4334\n",
       "CA     2784\n",
       "AU     1963\n",
       "KR     1376\n",
       "      ...  \n",
       "NU        1\n",
       "CC        1\n",
       "GI        1\n",
       "VA        1\n",
       "MQ        1\n",
       "Name: iso_country, Length: 243, dtype: int64"
      ]
     },
     "execution_count": 15,
     "metadata": {},
     "output_type": "execute_result"
    }
   ],
   "source": [
    "# Number of countries with airport entry\n",
    "airport_df['iso_country'].value_counts()"
   ]
  },
  {
   "cell_type": "code",
   "execution_count": 16,
   "metadata": {},
   "outputs": [],
   "source": [
    "# Filter for US data\n",
    "airport_df = airport_df[airport_df['iso_country'] == \"US\"]"
   ]
  },
  {
   "cell_type": "code",
   "execution_count": 17,
   "metadata": {},
   "outputs": [
    {
     "data": {
      "text/plain": [
       "(22757, 12)"
      ]
     },
     "execution_count": 17,
     "metadata": {},
     "output_type": "execute_result"
    }
   ],
   "source": [
    "airport_df.shape"
   ]
  },
  {
   "cell_type": "code",
   "execution_count": 18,
   "metadata": {},
   "outputs": [],
   "source": [
    "# Remove closed airports\n",
    "airport_df = airport_df[airport_df['type'] != \"closed\"]"
   ]
  },
  {
   "cell_type": "code",
   "execution_count": 19,
   "metadata": {},
   "outputs": [
    {
     "data": {
      "text/plain": [
       "(21431, 12)"
      ]
     },
     "execution_count": 19,
     "metadata": {},
     "output_type": "execute_result"
    }
   ],
   "source": [
    "airport_df.shape"
   ]
  },
  {
   "cell_type": "code",
   "execution_count": 20,
   "metadata": {},
   "outputs": [],
   "source": [
    "# Add id \n",
    "airport_df.insert(0, \"id\", \"\")"
   ]
  },
  {
   "cell_type": "code",
   "execution_count": 21,
   "metadata": {},
   "outputs": [
    {
     "name": "stdout",
     "output_type": "stream",
     "text": [
      "['id', 'ident', 'type', 'name', 'elevation_ft', 'continent', 'iso_country', 'iso_region', 'municipality', 'gps_code', 'iata_code', 'local_code', 'coordinates']\n"
     ]
    }
   ],
   "source": [
    "print(list(airport_df.columns))"
   ]
  },
  {
   "cell_type": "code",
   "execution_count": 22,
   "metadata": {},
   "outputs": [],
   "source": [
    "# Clean the ident column\n",
    "airport_df[\"id\"] = airport_df[\"ident\"].apply(lambda x: clean_port(x))"
   ]
  },
  {
   "cell_type": "code",
   "execution_count": 23,
   "metadata": {},
   "outputs": [
    {
     "data": {
      "text/html": [
       "<div>\n",
       "<style scoped>\n",
       "    .dataframe tbody tr th:only-of-type {\n",
       "        vertical-align: middle;\n",
       "    }\n",
       "\n",
       "    .dataframe tbody tr th {\n",
       "        vertical-align: top;\n",
       "    }\n",
       "\n",
       "    .dataframe thead th {\n",
       "        text-align: right;\n",
       "    }\n",
       "</style>\n",
       "<table border=\"1\" class=\"dataframe\">\n",
       "  <thead>\n",
       "    <tr style=\"text-align: right;\">\n",
       "      <th></th>\n",
       "      <th>id</th>\n",
       "      <th>ident</th>\n",
       "      <th>type</th>\n",
       "      <th>name</th>\n",
       "      <th>elevation_ft</th>\n",
       "      <th>continent</th>\n",
       "      <th>iso_country</th>\n",
       "      <th>iso_region</th>\n",
       "      <th>municipality</th>\n",
       "      <th>gps_code</th>\n",
       "      <th>iata_code</th>\n",
       "      <th>local_code</th>\n",
       "      <th>coordinates</th>\n",
       "    </tr>\n",
       "  </thead>\n",
       "  <tbody>\n",
       "    <tr>\n",
       "      <th>0</th>\n",
       "      <td>00A</td>\n",
       "      <td>00A</td>\n",
       "      <td>heliport</td>\n",
       "      <td>Total Rf Heliport</td>\n",
       "      <td>11.0</td>\n",
       "      <td>NaN</td>\n",
       "      <td>US</td>\n",
       "      <td>US-PA</td>\n",
       "      <td>Bensalem</td>\n",
       "      <td>00A</td>\n",
       "      <td>NaN</td>\n",
       "      <td>00A</td>\n",
       "      <td>-74.93360137939453, 40.07080078125</td>\n",
       "    </tr>\n",
       "    <tr>\n",
       "      <th>1</th>\n",
       "      <td>00AA</td>\n",
       "      <td>00AA</td>\n",
       "      <td>small_airport</td>\n",
       "      <td>Aero B Ranch Airport</td>\n",
       "      <td>3435.0</td>\n",
       "      <td>NaN</td>\n",
       "      <td>US</td>\n",
       "      <td>US-KS</td>\n",
       "      <td>Leoti</td>\n",
       "      <td>00AA</td>\n",
       "      <td>NaN</td>\n",
       "      <td>00AA</td>\n",
       "      <td>-101.473911, 38.704022</td>\n",
       "    </tr>\n",
       "    <tr>\n",
       "      <th>2</th>\n",
       "      <td>00AK</td>\n",
       "      <td>00AK</td>\n",
       "      <td>small_airport</td>\n",
       "      <td>Lowell Field</td>\n",
       "      <td>450.0</td>\n",
       "      <td>NaN</td>\n",
       "      <td>US</td>\n",
       "      <td>US-AK</td>\n",
       "      <td>Anchor Point</td>\n",
       "      <td>00AK</td>\n",
       "      <td>NaN</td>\n",
       "      <td>00AK</td>\n",
       "      <td>-151.695999146, 59.94919968</td>\n",
       "    </tr>\n",
       "  </tbody>\n",
       "</table>\n",
       "</div>"
      ],
      "text/plain": [
       "     id ident           type                  name  elevation_ft continent  \\\n",
       "0   00A   00A       heliport     Total Rf Heliport          11.0       NaN   \n",
       "1  00AA  00AA  small_airport  Aero B Ranch Airport        3435.0       NaN   \n",
       "2  00AK  00AK  small_airport          Lowell Field         450.0       NaN   \n",
       "\n",
       "  iso_country iso_region  municipality gps_code iata_code local_code  \\\n",
       "0          US      US-PA      Bensalem      00A       NaN        00A   \n",
       "1          US      US-KS         Leoti     00AA       NaN       00AA   \n",
       "2          US      US-AK  Anchor Point     00AK       NaN       00AK   \n",
       "\n",
       "                          coordinates  \n",
       "0  -74.93360137939453, 40.07080078125  \n",
       "1              -101.473911, 38.704022  \n",
       "2         -151.695999146, 59.94919968  "
      ]
     },
     "execution_count": 23,
     "metadata": {},
     "output_type": "execute_result"
    }
   ],
   "source": [
    "airport_df.head(3)"
   ]
  },
  {
   "cell_type": "code",
   "execution_count": 24,
   "metadata": {},
   "outputs": [
    {
     "data": {
      "text/plain": [
       "(21431, 13)"
      ]
     },
     "execution_count": 24,
     "metadata": {},
     "output_type": "execute_result"
    }
   ],
   "source": [
    "# Get number of rows and columns\n",
    "airport_df.shape"
   ]
  },
  {
   "cell_type": "code",
   "execution_count": 25,
   "metadata": {},
   "outputs": [
    {
     "data": {
      "image/png": "[encoded data removed]",
      "text/plain": [
       "<Figure size 1080x360 with 1 Axes>"
      ]
     },
     "metadata": {
      "needs_background": "light"
     },
     "output_type": "display_data"
    }
   ],
   "source": [
    "show_col_nan(airport_df)"
   ]
  },
  {
   "cell_type": "code",
   "execution_count": null,
   "metadata": {},
   "outputs": [],
   "source": []
  },
  {
   "cell_type": "code",
   "execution_count": 26,
   "metadata": {},
   "outputs": [],
   "source": [
    "# Save airport data to filesystem\n",
    "# airport_df.to_parquet(AIRPORT_OUTPUT_FILE)"
   ]
  },
  {
   "cell_type": "code",
   "execution_count": 27,
   "metadata": {},
   "outputs": [],
   "source": [
    "# Delete dataframe to free up memory\n",
    "del airport_df"
   ]
  },
  {
   "cell_type": "code",
   "execution_count": null,
   "metadata": {},
   "outputs": [],
   "source": []
  },
  {
   "cell_type": "code",
   "execution_count": 28,
   "metadata": {},
   "outputs": [],
   "source": [
    "# fname = '../../data/18-83510-I94-Data-2016/i94_apr16_sub.sas7bdat'\n",
    "# df = pd.read_sas(fname, 'sas7bdat', encoding=\"ISO-8859-1\")"
   ]
  },
  {
   "cell_type": "code",
   "execution_count": null,
   "metadata": {},
   "outputs": [],
   "source": []
  },
  {
   "cell_type": "code",
   "execution_count": 29,
   "metadata": {},
   "outputs": [],
   "source": [
    "# Read in city demographic data here\n",
    "city_demo_df = pd.read_csv(CITY_DEMO_INPUT_FILE, delimiter=\";\")"
   ]
  },
  {
   "cell_type": "code",
   "execution_count": 30,
   "metadata": {},
   "outputs": [
    {
     "data": {
      "text/html": [
       "<div>\n",
       "<style scoped>\n",
       "    .dataframe tbody tr th:only-of-type {\n",
       "        vertical-align: middle;\n",
       "    }\n",
       "\n",
       "    .dataframe tbody tr th {\n",
       "        vertical-align: top;\n",
       "    }\n",
       "\n",
       "    .dataframe thead th {\n",
       "        text-align: right;\n",
       "    }\n",
       "</style>\n",
       "<table border=\"1\" class=\"dataframe\">\n",
       "  <thead>\n",
       "    <tr style=\"text-align: right;\">\n",
       "      <th></th>\n",
       "      <th>City</th>\n",
       "      <th>State</th>\n",
       "      <th>Median Age</th>\n",
       "      <th>Male Population</th>\n",
       "      <th>Female Population</th>\n",
       "      <th>Total Population</th>\n",
       "      <th>Number of Veterans</th>\n",
       "      <th>Foreign-born</th>\n",
       "      <th>Average Household Size</th>\n",
       "      <th>State Code</th>\n",
       "      <th>Race</th>\n",
       "      <th>Count</th>\n",
       "    </tr>\n",
       "  </thead>\n",
       "  <tbody>\n",
       "    <tr>\n",
       "      <th>2727</th>\n",
       "      <td>Abilene</td>\n",
       "      <td>Texas</td>\n",
       "      <td>31.3</td>\n",
       "      <td>65212.0</td>\n",
       "      <td>60664.0</td>\n",
       "      <td>125876</td>\n",
       "      <td>9367.0</td>\n",
       "      <td>8129.0</td>\n",
       "      <td>2.64</td>\n",
       "      <td>TX</td>\n",
       "      <td>Asian</td>\n",
       "      <td>2929</td>\n",
       "    </tr>\n",
       "    <tr>\n",
       "      <th>1403</th>\n",
       "      <td>Abilene</td>\n",
       "      <td>Texas</td>\n",
       "      <td>31.3</td>\n",
       "      <td>65212.0</td>\n",
       "      <td>60664.0</td>\n",
       "      <td>125876</td>\n",
       "      <td>9367.0</td>\n",
       "      <td>8129.0</td>\n",
       "      <td>2.64</td>\n",
       "      <td>TX</td>\n",
       "      <td>Hispanic or Latino</td>\n",
       "      <td>33222</td>\n",
       "    </tr>\n",
       "    <tr>\n",
       "      <th>1533</th>\n",
       "      <td>Abilene</td>\n",
       "      <td>Texas</td>\n",
       "      <td>31.3</td>\n",
       "      <td>65212.0</td>\n",
       "      <td>60664.0</td>\n",
       "      <td>125876</td>\n",
       "      <td>9367.0</td>\n",
       "      <td>8129.0</td>\n",
       "      <td>2.64</td>\n",
       "      <td>TX</td>\n",
       "      <td>White</td>\n",
       "      <td>95487</td>\n",
       "    </tr>\n",
       "    <tr>\n",
       "      <th>245</th>\n",
       "      <td>Abilene</td>\n",
       "      <td>Texas</td>\n",
       "      <td>31.3</td>\n",
       "      <td>65212.0</td>\n",
       "      <td>60664.0</td>\n",
       "      <td>125876</td>\n",
       "      <td>9367.0</td>\n",
       "      <td>8129.0</td>\n",
       "      <td>2.64</td>\n",
       "      <td>TX</td>\n",
       "      <td>American Indian and Alaska Native</td>\n",
       "      <td>1813</td>\n",
       "    </tr>\n",
       "    <tr>\n",
       "      <th>2880</th>\n",
       "      <td>Abilene</td>\n",
       "      <td>Texas</td>\n",
       "      <td>31.3</td>\n",
       "      <td>65212.0</td>\n",
       "      <td>60664.0</td>\n",
       "      <td>125876</td>\n",
       "      <td>9367.0</td>\n",
       "      <td>8129.0</td>\n",
       "      <td>2.64</td>\n",
       "      <td>TX</td>\n",
       "      <td>Black or African-American</td>\n",
       "      <td>14449</td>\n",
       "    </tr>\n",
       "    <tr>\n",
       "      <th>2175</th>\n",
       "      <td>Akron</td>\n",
       "      <td>Ohio</td>\n",
       "      <td>38.1</td>\n",
       "      <td>96886.0</td>\n",
       "      <td>100667.0</td>\n",
       "      <td>197553</td>\n",
       "      <td>12878.0</td>\n",
       "      <td>10024.0</td>\n",
       "      <td>2.24</td>\n",
       "      <td>OH</td>\n",
       "      <td>Asian</td>\n",
       "      <td>9033</td>\n",
       "    </tr>\n",
       "    <tr>\n",
       "      <th>560</th>\n",
       "      <td>Akron</td>\n",
       "      <td>Ohio</td>\n",
       "      <td>38.1</td>\n",
       "      <td>96886.0</td>\n",
       "      <td>100667.0</td>\n",
       "      <td>197553</td>\n",
       "      <td>12878.0</td>\n",
       "      <td>10024.0</td>\n",
       "      <td>2.24</td>\n",
       "      <td>OH</td>\n",
       "      <td>Black or African-American</td>\n",
       "      <td>66551</td>\n",
       "    </tr>\n",
       "  </tbody>\n",
       "</table>\n",
       "</div>"
      ],
      "text/plain": [
       "         City  State  Median Age  Male Population  Female Population  \\\n",
       "2727  Abilene  Texas        31.3          65212.0            60664.0   \n",
       "1403  Abilene  Texas        31.3          65212.0            60664.0   \n",
       "1533  Abilene  Texas        31.3          65212.0            60664.0   \n",
       "245   Abilene  Texas        31.3          65212.0            60664.0   \n",
       "2880  Abilene  Texas        31.3          65212.0            60664.0   \n",
       "2175    Akron   Ohio        38.1          96886.0           100667.0   \n",
       "560     Akron   Ohio        38.1          96886.0           100667.0   \n",
       "\n",
       "      Total Population  Number of Veterans  Foreign-born  \\\n",
       "2727            125876              9367.0        8129.0   \n",
       "1403            125876              9367.0        8129.0   \n",
       "1533            125876              9367.0        8129.0   \n",
       "245             125876              9367.0        8129.0   \n",
       "2880            125876              9367.0        8129.0   \n",
       "2175            197553             12878.0       10024.0   \n",
       "560             197553             12878.0       10024.0   \n",
       "\n",
       "      Average Household Size State Code                               Race  \\\n",
       "2727                    2.64         TX                              Asian   \n",
       "1403                    2.64         TX                 Hispanic or Latino   \n",
       "1533                    2.64         TX                              White   \n",
       "245                     2.64         TX  American Indian and Alaska Native   \n",
       "2880                    2.64         TX          Black or African-American   \n",
       "2175                    2.24         OH                              Asian   \n",
       "560                     2.24         OH          Black or African-American   \n",
       "\n",
       "      Count  \n",
       "2727   2929  \n",
       "1403  33222  \n",
       "1533  95487  \n",
       "245    1813  \n",
       "2880  14449  \n",
       "2175   9033  \n",
       "560   66551  "
      ]
     },
     "execution_count": 30,
     "metadata": {},
     "output_type": "execute_result"
    }
   ],
   "source": [
    "city_demo_df.sort_values('City')[:7]"
   ]
  },
  {
   "cell_type": "code",
   "execution_count": 31,
   "metadata": {},
   "outputs": [
    {
     "data": {
      "text/plain": [
       "(2891, 12)"
      ]
     },
     "execution_count": 31,
     "metadata": {},
     "output_type": "execute_result"
    }
   ],
   "source": [
    "city_demo_df.shape"
   ]
  },
  {
   "cell_type": "code",
   "execution_count": 32,
   "metadata": {},
   "outputs": [
    {
     "name": "stdout",
     "output_type": "stream",
     "text": [
      "['City', 'State', 'Median Age', 'Male Population', 'Female Population', 'Total Population', 'Number of Veterans', 'Foreign-born', 'Average Household Size', 'State Code', 'Race', 'Count']\n"
     ]
    }
   ],
   "source": [
    "print(list(city_demo_df.columns))"
   ]
  },
  {
   "cell_type": "code",
   "execution_count": 33,
   "metadata": {},
   "outputs": [
    {
     "data": {
      "text/plain": [
       "0"
      ]
     },
     "execution_count": 33,
     "metadata": {},
     "output_type": "execute_result"
    }
   ],
   "source": [
    "# Check for duplicate rows\n",
    "len(city_demo_df[city_demo_df.duplicated(keep='first')])"
   ]
  },
  {
   "cell_type": "code",
   "execution_count": 34,
   "metadata": {},
   "outputs": [],
   "source": [
    "# Convert dataset from long to wide form and \n",
    "# create identity column for dataset\n",
    "list_index = list(city_demo_df.columns)[:-2]\n",
    "city_demo_df = city_demo_df.pivot(index=list_index, columns='Race', values='Count').reset_index().reset_index()\n",
    "city_demo_df.rename(columns={'index': 'id'}, inplace=True)\n",
    "city_demo_df.columns.name = None"
   ]
  },
  {
   "cell_type": "code",
   "execution_count": 35,
   "metadata": {},
   "outputs": [
    {
     "data": {
      "text/html": [
       "<div>\n",
       "<style scoped>\n",
       "    .dataframe tbody tr th:only-of-type {\n",
       "        vertical-align: middle;\n",
       "    }\n",
       "\n",
       "    .dataframe tbody tr th {\n",
       "        vertical-align: top;\n",
       "    }\n",
       "\n",
       "    .dataframe thead th {\n",
       "        text-align: right;\n",
       "    }\n",
       "</style>\n",
       "<table border=\"1\" class=\"dataframe\">\n",
       "  <thead>\n",
       "    <tr style=\"text-align: right;\">\n",
       "      <th></th>\n",
       "      <th>id</th>\n",
       "      <th>City</th>\n",
       "      <th>State</th>\n",
       "      <th>Median Age</th>\n",
       "      <th>Male Population</th>\n",
       "      <th>Female Population</th>\n",
       "      <th>Total Population</th>\n",
       "      <th>Number of Veterans</th>\n",
       "      <th>Foreign-born</th>\n",
       "      <th>Average Household Size</th>\n",
       "      <th>State Code</th>\n",
       "      <th>American Indian and Alaska Native</th>\n",
       "      <th>Asian</th>\n",
       "      <th>Black or African-American</th>\n",
       "      <th>Hispanic or Latino</th>\n",
       "      <th>White</th>\n",
       "    </tr>\n",
       "  </thead>\n",
       "  <tbody>\n",
       "    <tr>\n",
       "      <th>0</th>\n",
       "      <td>0</td>\n",
       "      <td>Abilene</td>\n",
       "      <td>Texas</td>\n",
       "      <td>31.3</td>\n",
       "      <td>65212.0</td>\n",
       "      <td>60664.0</td>\n",
       "      <td>125876</td>\n",
       "      <td>9367.0</td>\n",
       "      <td>8129.0</td>\n",
       "      <td>2.64</td>\n",
       "      <td>TX</td>\n",
       "      <td>1813.0</td>\n",
       "      <td>2929.0</td>\n",
       "      <td>14449.0</td>\n",
       "      <td>33222.0</td>\n",
       "      <td>95487.0</td>\n",
       "    </tr>\n",
       "    <tr>\n",
       "      <th>1</th>\n",
       "      <td>1</td>\n",
       "      <td>Akron</td>\n",
       "      <td>Ohio</td>\n",
       "      <td>38.1</td>\n",
       "      <td>96886.0</td>\n",
       "      <td>100667.0</td>\n",
       "      <td>197553</td>\n",
       "      <td>12878.0</td>\n",
       "      <td>10024.0</td>\n",
       "      <td>2.24</td>\n",
       "      <td>OH</td>\n",
       "      <td>1845.0</td>\n",
       "      <td>9033.0</td>\n",
       "      <td>66551.0</td>\n",
       "      <td>3684.0</td>\n",
       "      <td>129192.0</td>\n",
       "    </tr>\n",
       "    <tr>\n",
       "      <th>2</th>\n",
       "      <td>2</td>\n",
       "      <td>Alafaya</td>\n",
       "      <td>Florida</td>\n",
       "      <td>33.5</td>\n",
       "      <td>39504.0</td>\n",
       "      <td>45760.0</td>\n",
       "      <td>85264</td>\n",
       "      <td>4176.0</td>\n",
       "      <td>15842.0</td>\n",
       "      <td>2.94</td>\n",
       "      <td>FL</td>\n",
       "      <td>NaN</td>\n",
       "      <td>10336.0</td>\n",
       "      <td>6577.0</td>\n",
       "      <td>34897.0</td>\n",
       "      <td>63666.0</td>\n",
       "    </tr>\n",
       "    <tr>\n",
       "      <th>3</th>\n",
       "      <td>3</td>\n",
       "      <td>Alameda</td>\n",
       "      <td>California</td>\n",
       "      <td>41.4</td>\n",
       "      <td>37747.0</td>\n",
       "      <td>40867.0</td>\n",
       "      <td>78614</td>\n",
       "      <td>4504.0</td>\n",
       "      <td>18841.0</td>\n",
       "      <td>2.52</td>\n",
       "      <td>CA</td>\n",
       "      <td>1329.0</td>\n",
       "      <td>27984.0</td>\n",
       "      <td>7364.0</td>\n",
       "      <td>8265.0</td>\n",
       "      <td>44232.0</td>\n",
       "    </tr>\n",
       "    <tr>\n",
       "      <th>4</th>\n",
       "      <td>4</td>\n",
       "      <td>Albany</td>\n",
       "      <td>Georgia</td>\n",
       "      <td>33.3</td>\n",
       "      <td>31695.0</td>\n",
       "      <td>39414.0</td>\n",
       "      <td>71109</td>\n",
       "      <td>5409.0</td>\n",
       "      <td>861.0</td>\n",
       "      <td>2.38</td>\n",
       "      <td>GA</td>\n",
       "      <td>445.0</td>\n",
       "      <td>650.0</td>\n",
       "      <td>53440.0</td>\n",
       "      <td>1783.0</td>\n",
       "      <td>17160.0</td>\n",
       "    </tr>\n",
       "    <tr>\n",
       "      <th>5</th>\n",
       "      <td>5</td>\n",
       "      <td>Albany</td>\n",
       "      <td>New York</td>\n",
       "      <td>32.8</td>\n",
       "      <td>47627.0</td>\n",
       "      <td>50825.0</td>\n",
       "      <td>98452</td>\n",
       "      <td>3643.0</td>\n",
       "      <td>11948.0</td>\n",
       "      <td>2.08</td>\n",
       "      <td>NY</td>\n",
       "      <td>1611.0</td>\n",
       "      <td>8090.0</td>\n",
       "      <td>31303.0</td>\n",
       "      <td>9368.0</td>\n",
       "      <td>58368.0</td>\n",
       "    </tr>\n",
       "    <tr>\n",
       "      <th>6</th>\n",
       "      <td>6</td>\n",
       "      <td>Albuquerque</td>\n",
       "      <td>New Mexico</td>\n",
       "      <td>36.0</td>\n",
       "      <td>273323.0</td>\n",
       "      <td>285808.0</td>\n",
       "      <td>559131</td>\n",
       "      <td>37443.0</td>\n",
       "      <td>58200.0</td>\n",
       "      <td>2.49</td>\n",
       "      <td>NM</td>\n",
       "      <td>32243.0</td>\n",
       "      <td>25140.0</td>\n",
       "      <td>26774.0</td>\n",
       "      <td>271854.0</td>\n",
       "      <td>411847.0</td>\n",
       "    </tr>\n",
       "  </tbody>\n",
       "</table>\n",
       "</div>"
      ],
      "text/plain": [
       "   id         City       State  Median Age  Male Population  \\\n",
       "0   0      Abilene       Texas        31.3          65212.0   \n",
       "1   1        Akron        Ohio        38.1          96886.0   \n",
       "2   2      Alafaya     Florida        33.5          39504.0   \n",
       "3   3      Alameda  California        41.4          37747.0   \n",
       "4   4       Albany     Georgia        33.3          31695.0   \n",
       "5   5       Albany    New York        32.8          47627.0   \n",
       "6   6  Albuquerque  New Mexico        36.0         273323.0   \n",
       "\n",
       "   Female Population  Total Population  Number of Veterans  Foreign-born  \\\n",
       "0            60664.0            125876              9367.0        8129.0   \n",
       "1           100667.0            197553             12878.0       10024.0   \n",
       "2            45760.0             85264              4176.0       15842.0   \n",
       "3            40867.0             78614              4504.0       18841.0   \n",
       "4            39414.0             71109              5409.0         861.0   \n",
       "5            50825.0             98452              3643.0       11948.0   \n",
       "6           285808.0            559131             37443.0       58200.0   \n",
       "\n",
       "   Average Household Size State Code  American Indian and Alaska Native  \\\n",
       "0                    2.64         TX                             1813.0   \n",
       "1                    2.24         OH                             1845.0   \n",
       "2                    2.94         FL                                NaN   \n",
       "3                    2.52         CA                             1329.0   \n",
       "4                    2.38         GA                              445.0   \n",
       "5                    2.08         NY                             1611.0   \n",
       "6                    2.49         NM                            32243.0   \n",
       "\n",
       "     Asian  Black or African-American  Hispanic or Latino     White  \n",
       "0   2929.0                    14449.0             33222.0   95487.0  \n",
       "1   9033.0                    66551.0              3684.0  129192.0  \n",
       "2  10336.0                     6577.0             34897.0   63666.0  \n",
       "3  27984.0                     7364.0              8265.0   44232.0  \n",
       "4    650.0                    53440.0              1783.0   17160.0  \n",
       "5   8090.0                    31303.0              9368.0   58368.0  \n",
       "6  25140.0                    26774.0            271854.0  411847.0  "
      ]
     },
     "execution_count": 35,
     "metadata": {},
     "output_type": "execute_result"
    }
   ],
   "source": [
    "city_demo_df.sort_values('City')[:7]"
   ]
  },
  {
   "cell_type": "code",
   "execution_count": 36,
   "metadata": {},
   "outputs": [
    {
     "data": {
      "text/plain": [
       "(596, 16)"
      ]
     },
     "execution_count": 36,
     "metadata": {},
     "output_type": "execute_result"
    }
   ],
   "source": [
    "# Size of dimension dataset\n",
    "city_demo_df.shape"
   ]
  },
  {
   "cell_type": "code",
   "execution_count": 37,
   "metadata": {},
   "outputs": [
    {
     "data": {
      "text/plain": [
       "Index(['id', 'City', 'State', 'Median Age', 'Male Population',\n",
       "       'Female Population', 'Total Population', 'Number of Veterans',\n",
       "       'Foreign-born', 'Average Household Size', 'State Code',\n",
       "       'American Indian and Alaska Native', 'Asian',\n",
       "       'Black or African-American', 'Hispanic or Latino', 'White'],\n",
       "      dtype='object')"
      ]
     },
     "execution_count": 37,
     "metadata": {},
     "output_type": "execute_result"
    }
   ],
   "source": [
    "city_demo_df.columns"
   ]
  },
  {
   "cell_type": "code",
   "execution_count": 38,
   "metadata": {},
   "outputs": [
    {
     "data": {
      "image/png": "[encoded data removed]",
      "text/plain": [
       "<Figure size 1080x360 with 1 Axes>"
      ]
     },
     "metadata": {
      "needs_background": "light"
     },
     "output_type": "display_data"
    }
   ],
   "source": [
    "# Show nulls in column\n",
    "show_col_nan(city_demo_df)"
   ]
  },
  {
   "cell_type": "code",
   "execution_count": 39,
   "metadata": {},
   "outputs": [],
   "source": [
    "# Save city demography dimension data to filesystem\n",
    "# city_demo_df.to_parquet(CITY_DEMO_OUTPUT_FILE)"
   ]
  },
  {
   "cell_type": "code",
   "execution_count": 40,
   "metadata": {},
   "outputs": [],
   "source": [
    "# Delete from memory\n",
    "del city_demo_df"
   ]
  },
  {
   "cell_type": "code",
   "execution_count": null,
   "metadata": {},
   "outputs": [],
   "source": []
  },
  {
   "cell_type": "code",
   "execution_count": 41,
   "metadata": {},
   "outputs": [],
   "source": [
    "# Read in immigration data\n",
    "parquet_df = pd.read_parquet(I94_INPUT_FILE, engine='pyarrow')"
   ]
  },
  {
   "cell_type": "code",
   "execution_count": 42,
   "metadata": {},
   "outputs": [
    {
     "data": {
      "text/html": [
       "<div>\n",
       "<style scoped>\n",
       "    .dataframe tbody tr th:only-of-type {\n",
       "        vertical-align: middle;\n",
       "    }\n",
       "\n",
       "    .dataframe tbody tr th {\n",
       "        vertical-align: top;\n",
       "    }\n",
       "\n",
       "    .dataframe thead th {\n",
       "        text-align: right;\n",
       "    }\n",
       "</style>\n",
       "<table border=\"1\" class=\"dataframe\">\n",
       "  <thead>\n",
       "    <tr style=\"text-align: right;\">\n",
       "      <th></th>\n",
       "      <th>cicid</th>\n",
       "      <th>i94yr</th>\n",
       "      <th>i94mon</th>\n",
       "      <th>i94cit</th>\n",
       "      <th>i94res</th>\n",
       "      <th>i94port</th>\n",
       "      <th>arrdate</th>\n",
       "      <th>i94mode</th>\n",
       "      <th>i94addr</th>\n",
       "      <th>depdate</th>\n",
       "      <th>i94bir</th>\n",
       "      <th>i94visa</th>\n",
       "      <th>count</th>\n",
       "      <th>dtadfile</th>\n",
       "      <th>visapost</th>\n",
       "      <th>occup</th>\n",
       "      <th>entdepa</th>\n",
       "      <th>entdepd</th>\n",
       "      <th>entdepu</th>\n",
       "      <th>matflag</th>\n",
       "      <th>biryear</th>\n",
       "      <th>dtaddto</th>\n",
       "      <th>gender</th>\n",
       "      <th>insnum</th>\n",
       "      <th>airline</th>\n",
       "      <th>admnum</th>\n",
       "      <th>fltno</th>\n",
       "      <th>visatype</th>\n",
       "    </tr>\n",
       "  </thead>\n",
       "  <tbody>\n",
       "    <tr>\n",
       "      <th>0</th>\n",
       "      <td>6.0</td>\n",
       "      <td>2016.0</td>\n",
       "      <td>4.0</td>\n",
       "      <td>692.0</td>\n",
       "      <td>692.0</td>\n",
       "      <td>XXX</td>\n",
       "      <td>20573.0</td>\n",
       "      <td>NaN</td>\n",
       "      <td>None</td>\n",
       "      <td>NaN</td>\n",
       "      <td>37.0</td>\n",
       "      <td>2.0</td>\n",
       "      <td>1.0</td>\n",
       "      <td>None</td>\n",
       "      <td>None</td>\n",
       "      <td>None</td>\n",
       "      <td>T</td>\n",
       "      <td>None</td>\n",
       "      <td>U</td>\n",
       "      <td>None</td>\n",
       "      <td>1979.0</td>\n",
       "      <td>10282016</td>\n",
       "      <td>None</td>\n",
       "      <td>None</td>\n",
       "      <td>None</td>\n",
       "      <td>1.897628e+09</td>\n",
       "      <td>None</td>\n",
       "      <td>B2</td>\n",
       "    </tr>\n",
       "    <tr>\n",
       "      <th>1</th>\n",
       "      <td>7.0</td>\n",
       "      <td>2016.0</td>\n",
       "      <td>4.0</td>\n",
       "      <td>254.0</td>\n",
       "      <td>276.0</td>\n",
       "      <td>ATL</td>\n",
       "      <td>20551.0</td>\n",
       "      <td>1.0</td>\n",
       "      <td>AL</td>\n",
       "      <td>NaN</td>\n",
       "      <td>25.0</td>\n",
       "      <td>3.0</td>\n",
       "      <td>1.0</td>\n",
       "      <td>20130811</td>\n",
       "      <td>SEO</td>\n",
       "      <td>None</td>\n",
       "      <td>G</td>\n",
       "      <td>None</td>\n",
       "      <td>Y</td>\n",
       "      <td>None</td>\n",
       "      <td>1991.0</td>\n",
       "      <td>D/S</td>\n",
       "      <td>M</td>\n",
       "      <td>None</td>\n",
       "      <td>None</td>\n",
       "      <td>3.736796e+09</td>\n",
       "      <td>00296</td>\n",
       "      <td>F1</td>\n",
       "    </tr>\n",
       "    <tr>\n",
       "      <th>2</th>\n",
       "      <td>15.0</td>\n",
       "      <td>2016.0</td>\n",
       "      <td>4.0</td>\n",
       "      <td>101.0</td>\n",
       "      <td>101.0</td>\n",
       "      <td>WAS</td>\n",
       "      <td>20545.0</td>\n",
       "      <td>1.0</td>\n",
       "      <td>MI</td>\n",
       "      <td>20691.0</td>\n",
       "      <td>55.0</td>\n",
       "      <td>2.0</td>\n",
       "      <td>1.0</td>\n",
       "      <td>20160401</td>\n",
       "      <td>None</td>\n",
       "      <td>None</td>\n",
       "      <td>T</td>\n",
       "      <td>O</td>\n",
       "      <td>None</td>\n",
       "      <td>M</td>\n",
       "      <td>1961.0</td>\n",
       "      <td>09302016</td>\n",
       "      <td>M</td>\n",
       "      <td>None</td>\n",
       "      <td>OS</td>\n",
       "      <td>6.666432e+08</td>\n",
       "      <td>93</td>\n",
       "      <td>B2</td>\n",
       "    </tr>\n",
       "    <tr>\n",
       "      <th>3</th>\n",
       "      <td>16.0</td>\n",
       "      <td>2016.0</td>\n",
       "      <td>4.0</td>\n",
       "      <td>101.0</td>\n",
       "      <td>101.0</td>\n",
       "      <td>NYC</td>\n",
       "      <td>20545.0</td>\n",
       "      <td>1.0</td>\n",
       "      <td>MA</td>\n",
       "      <td>20567.0</td>\n",
       "      <td>28.0</td>\n",
       "      <td>2.0</td>\n",
       "      <td>1.0</td>\n",
       "      <td>20160401</td>\n",
       "      <td>None</td>\n",
       "      <td>None</td>\n",
       "      <td>O</td>\n",
       "      <td>O</td>\n",
       "      <td>None</td>\n",
       "      <td>M</td>\n",
       "      <td>1988.0</td>\n",
       "      <td>09302016</td>\n",
       "      <td>None</td>\n",
       "      <td>None</td>\n",
       "      <td>AA</td>\n",
       "      <td>9.246846e+10</td>\n",
       "      <td>00199</td>\n",
       "      <td>B2</td>\n",
       "    </tr>\n",
       "    <tr>\n",
       "      <th>4</th>\n",
       "      <td>17.0</td>\n",
       "      <td>2016.0</td>\n",
       "      <td>4.0</td>\n",
       "      <td>101.0</td>\n",
       "      <td>101.0</td>\n",
       "      <td>NYC</td>\n",
       "      <td>20545.0</td>\n",
       "      <td>1.0</td>\n",
       "      <td>MA</td>\n",
       "      <td>20567.0</td>\n",
       "      <td>4.0</td>\n",
       "      <td>2.0</td>\n",
       "      <td>1.0</td>\n",
       "      <td>20160401</td>\n",
       "      <td>None</td>\n",
       "      <td>None</td>\n",
       "      <td>O</td>\n",
       "      <td>O</td>\n",
       "      <td>None</td>\n",
       "      <td>M</td>\n",
       "      <td>2012.0</td>\n",
       "      <td>09302016</td>\n",
       "      <td>None</td>\n",
       "      <td>None</td>\n",
       "      <td>AA</td>\n",
       "      <td>9.246846e+10</td>\n",
       "      <td>00199</td>\n",
       "      <td>B2</td>\n",
       "    </tr>\n",
       "  </tbody>\n",
       "</table>\n",
       "</div>"
      ],
      "text/plain": [
       "   cicid   i94yr  i94mon  i94cit  i94res i94port  arrdate  i94mode i94addr  \\\n",
       "0    6.0  2016.0     4.0   692.0   692.0     XXX  20573.0      NaN    None   \n",
       "1    7.0  2016.0     4.0   254.0   276.0     ATL  20551.0      1.0      AL   \n",
       "2   15.0  2016.0     4.0   101.0   101.0     WAS  20545.0      1.0      MI   \n",
       "3   16.0  2016.0     4.0   101.0   101.0     NYC  20545.0      1.0      MA   \n",
       "4   17.0  2016.0     4.0   101.0   101.0     NYC  20545.0      1.0      MA   \n",
       "\n",
       "   depdate  i94bir  i94visa  count  dtadfile visapost occup entdepa entdepd  \\\n",
       "0      NaN    37.0      2.0    1.0      None     None  None       T    None   \n",
       "1      NaN    25.0      3.0    1.0  20130811      SEO  None       G    None   \n",
       "2  20691.0    55.0      2.0    1.0  20160401     None  None       T       O   \n",
       "3  20567.0    28.0      2.0    1.0  20160401     None  None       O       O   \n",
       "4  20567.0     4.0      2.0    1.0  20160401     None  None       O       O   \n",
       "\n",
       "  entdepu matflag  biryear   dtaddto gender insnum airline        admnum  \\\n",
       "0       U    None   1979.0  10282016   None   None    None  1.897628e+09   \n",
       "1       Y    None   1991.0       D/S      M   None    None  3.736796e+09   \n",
       "2    None       M   1961.0  09302016      M   None      OS  6.666432e+08   \n",
       "3    None       M   1988.0  09302016   None   None      AA  9.246846e+10   \n",
       "4    None       M   2012.0  09302016   None   None      AA  9.246846e+10   \n",
       "\n",
       "   fltno visatype  \n",
       "0   None       B2  \n",
       "1  00296       F1  \n",
       "2     93       B2  \n",
       "3  00199       B2  \n",
       "4  00199       B2  "
      ]
     },
     "execution_count": 42,
     "metadata": {},
     "output_type": "execute_result"
    }
   ],
   "source": [
    "parquet_df.head()"
   ]
  },
  {
   "cell_type": "code",
   "execution_count": 43,
   "metadata": {},
   "outputs": [
    {
     "data": {
      "text/plain": [
       "(3096313, 28)"
      ]
     },
     "execution_count": 43,
     "metadata": {},
     "output_type": "execute_result"
    }
   ],
   "source": [
    "parquet_df.shape"
   ]
  },
  {
   "cell_type": "code",
   "execution_count": 44,
   "metadata": {},
   "outputs": [
    {
     "data": {
      "text/plain": [
       "0"
      ]
     },
     "execution_count": 44,
     "metadata": {},
     "output_type": "execute_result"
    }
   ],
   "source": [
    "# Check for duplicate rows\n",
    "len(parquet_df[parquet_df.duplicated(keep='first')])"
   ]
  },
  {
   "cell_type": "code",
   "execution_count": 45,
   "metadata": {},
   "outputs": [
    {
     "data": {
      "image/png": "[encoded data removed]",
      "text/plain": [
       "<Figure size 1080x360 with 1 Axes>"
      ]
     },
     "metadata": {
      "needs_background": "light"
     },
     "output_type": "display_data"
    }
   ],
   "source": [
    "show_col_nan(parquet_df)"
   ]
  },
  {
   "cell_type": "code",
   "execution_count": 46,
   "metadata": {},
   "outputs": [
    {
     "name": "stdout",
     "output_type": "stream",
     "text": [
      "['cicid', 'i94yr', 'i94mon', 'i94cit', 'i94res', 'i94port', 'arrdate', 'i94mode', 'i94addr', 'depdate', 'i94bir', 'i94visa', 'count', 'dtadfile', 'visapost', 'occup', 'entdepa', 'entdepd', 'entdepu', 'matflag', 'biryear', 'dtaddto', 'gender', 'insnum', 'airline', 'admnum', 'fltno', 'visatype']\n"
     ]
    }
   ],
   "source": [
    "print(list(parquet_df.columns))"
   ]
  },
  {
   "cell_type": "code",
   "execution_count": 47,
   "metadata": {},
   "outputs": [],
   "source": [
    "# Create new columns from description file\n",
    "# i94cit_label\n",
    "dict_label = read_label('I94_SAS_Labels_Descriptions.SAS', l1=9, l2=297)\n",
    "parquet_df['i94cit_label'] = parquet_df['i94cit'].apply(\n",
    "                             lambda x: dict_label.get(str(int(x))) if (x is not None)\n",
    "                             else None)\n",
    "\n",
    "# i94res_label\n",
    "dict_label = read_label('I94_SAS_Labels_Descriptions.SAS', l1=9, l2=297)\n",
    "parquet_df['i94res_label'] = parquet_df['i94res'].apply(\n",
    "                             lambda x: dict_label.get(str(int(x))) if x is not None \n",
    "                             else None)\n",
    "\n",
    "# i94port_label\n",
    "dict_label = read_label('I94_SAS_Labels_Descriptions.SAS', l1=302, l2=961)\n",
    "parquet_df['i94port_label'] = parquet_df['i94port'].apply(\n",
    "                              lambda x: dict_label.get(x))\n",
    "\n",
    "# i94mode_label\n",
    "dict_label = read_label('I94_SAS_Labels_Descriptions.SAS', l1=972, l2=975)\n",
    "parquet_df['i94mode_label'] = parquet_df['i94mode'].apply(\n",
    "                              lambda x: dict_label.get(str(int(x))) if (not np.isnan(x))\n",
    "                              else None)\n",
    "\n",
    "# i94addr_label\n",
    "dict_label = read_label('I94_SAS_Labels_Descriptions.SAS', l1=981, l2=1035)\n",
    "parquet_df['i94addr_label'] = parquet_df['i94addr'].apply(\n",
    "                              lambda x: dict_label.get(x))\n",
    "\n",
    "# i94visa_label\n",
    "dict_label = read_label('I94_SAS_Labels_Descriptions.SAS', l1=1046, l2=1048)\n",
    "parquet_df['i94visa_label'] = parquet_df['i94visa'].apply(\n",
    "                              lambda x: dict_label.get(str(int(x))) if \n",
    "                              (not np.isnan(x)) else None)"
   ]
  },
  {
   "cell_type": "code",
   "execution_count": 48,
   "metadata": {},
   "outputs": [
    {
     "name": "stdout",
     "output_type": "stream",
     "text": [
      "['cicid', 'i94yr', 'i94mon', 'i94cit', 'i94res', 'i94port', 'arrdate', 'i94mode', 'i94addr', 'depdate', 'i94bir', 'i94visa', 'count', 'dtadfile', 'visapost', 'occup', 'entdepa', 'entdepd', 'entdepu', 'matflag', 'biryear', 'dtaddto', 'gender', 'insnum', 'airline', 'admnum', 'fltno', 'visatype', 'i94cit_label', 'i94res_label', 'i94port_label', 'i94mode_label', 'i94addr_label', 'i94visa_label']\n"
     ]
    }
   ],
   "source": [
    "print(list(parquet_df.columns))"
   ]
  },
  {
   "cell_type": "code",
   "execution_count": 49,
   "metadata": {},
   "outputs": [],
   "source": [
    "# Save immigration fact data to filesystem\n",
    "# parquet_df.to_parquet(I94_OUTPUT_FILE)"
   ]
  },
  {
   "cell_type": "code",
   "execution_count": 50,
   "metadata": {},
   "outputs": [],
   "source": [
    "del parquet_df"
   ]
  },
  {
   "cell_type": "code",
   "execution_count": null,
   "metadata": {},
   "outputs": [],
   "source": []
  },
  {
   "cell_type": "code",
   "execution_count": 51,
   "metadata": {},
   "outputs": [],
   "source": [
    "# Read in the city temperature data here\n",
    "temperature_df = pd.read_csv(TEMP_INPUT_FILE)"
   ]
  },
  {
   "cell_type": "code",
   "execution_count": 52,
   "metadata": {},
   "outputs": [
    {
     "data": {
      "text/html": [
       "<div>\n",
       "<style scoped>\n",
       "    .dataframe tbody tr th:only-of-type {\n",
       "        vertical-align: middle;\n",
       "    }\n",
       "\n",
       "    .dataframe tbody tr th {\n",
       "        vertical-align: top;\n",
       "    }\n",
       "\n",
       "    .dataframe thead th {\n",
       "        text-align: right;\n",
       "    }\n",
       "</style>\n",
       "<table border=\"1\" class=\"dataframe\">\n",
       "  <thead>\n",
       "    <tr style=\"text-align: right;\">\n",
       "      <th></th>\n",
       "      <th>dt</th>\n",
       "      <th>AverageTemperature</th>\n",
       "      <th>AverageTemperatureUncertainty</th>\n",
       "      <th>City</th>\n",
       "      <th>Country</th>\n",
       "      <th>Latitude</th>\n",
       "      <th>Longitude</th>\n",
       "    </tr>\n",
       "  </thead>\n",
       "  <tbody>\n",
       "    <tr>\n",
       "      <th>0</th>\n",
       "      <td>1743-11-01</td>\n",
       "      <td>6.068</td>\n",
       "      <td>1.737</td>\n",
       "      <td>Århus</td>\n",
       "      <td>Denmark</td>\n",
       "      <td>57.05N</td>\n",
       "      <td>10.33E</td>\n",
       "    </tr>\n",
       "    <tr>\n",
       "      <th>1</th>\n",
       "      <td>1743-12-01</td>\n",
       "      <td>NaN</td>\n",
       "      <td>NaN</td>\n",
       "      <td>Århus</td>\n",
       "      <td>Denmark</td>\n",
       "      <td>57.05N</td>\n",
       "      <td>10.33E</td>\n",
       "    </tr>\n",
       "    <tr>\n",
       "      <th>2</th>\n",
       "      <td>1744-01-01</td>\n",
       "      <td>NaN</td>\n",
       "      <td>NaN</td>\n",
       "      <td>Århus</td>\n",
       "      <td>Denmark</td>\n",
       "      <td>57.05N</td>\n",
       "      <td>10.33E</td>\n",
       "    </tr>\n",
       "    <tr>\n",
       "      <th>3</th>\n",
       "      <td>1744-02-01</td>\n",
       "      <td>NaN</td>\n",
       "      <td>NaN</td>\n",
       "      <td>Århus</td>\n",
       "      <td>Denmark</td>\n",
       "      <td>57.05N</td>\n",
       "      <td>10.33E</td>\n",
       "    </tr>\n",
       "    <tr>\n",
       "      <th>4</th>\n",
       "      <td>1744-03-01</td>\n",
       "      <td>NaN</td>\n",
       "      <td>NaN</td>\n",
       "      <td>Århus</td>\n",
       "      <td>Denmark</td>\n",
       "      <td>57.05N</td>\n",
       "      <td>10.33E</td>\n",
       "    </tr>\n",
       "  </tbody>\n",
       "</table>\n",
       "</div>"
      ],
      "text/plain": [
       "           dt  AverageTemperature  AverageTemperatureUncertainty   City  \\\n",
       "0  1743-11-01               6.068                          1.737  Århus   \n",
       "1  1743-12-01                 NaN                            NaN  Århus   \n",
       "2  1744-01-01                 NaN                            NaN  Århus   \n",
       "3  1744-02-01                 NaN                            NaN  Århus   \n",
       "4  1744-03-01                 NaN                            NaN  Århus   \n",
       "\n",
       "   Country Latitude Longitude  \n",
       "0  Denmark   57.05N    10.33E  \n",
       "1  Denmark   57.05N    10.33E  \n",
       "2  Denmark   57.05N    10.33E  \n",
       "3  Denmark   57.05N    10.33E  \n",
       "4  Denmark   57.05N    10.33E  "
      ]
     },
     "execution_count": 52,
     "metadata": {},
     "output_type": "execute_result"
    }
   ],
   "source": [
    "temperature_df.head()"
   ]
  },
  {
   "cell_type": "code",
   "execution_count": 53,
   "metadata": {},
   "outputs": [
    {
     "data": {
      "text/plain": [
       "(8599212, 7)"
      ]
     },
     "execution_count": 53,
     "metadata": {},
     "output_type": "execute_result"
    }
   ],
   "source": [
    "temperature_df.shape"
   ]
  },
  {
   "cell_type": "code",
   "execution_count": 54,
   "metadata": {},
   "outputs": [
    {
     "name": "stdout",
     "output_type": "stream",
     "text": [
      "['dt', 'AverageTemperature', 'AverageTemperatureUncertainty', 'City', 'Country', 'Latitude', 'Longitude']\n"
     ]
    }
   ],
   "source": [
    "print(list(temperature_df.columns))"
   ]
  },
  {
   "cell_type": "code",
   "execution_count": 55,
   "metadata": {},
   "outputs": [],
   "source": [
    "# Filter for US data\n",
    "temperature_df = temperature_df[temperature_df['Country'] == \"United States\"]"
   ]
  },
  {
   "cell_type": "code",
   "execution_count": 56,
   "metadata": {},
   "outputs": [
    {
     "data": {
      "text/html": [
       "<div>\n",
       "<style scoped>\n",
       "    .dataframe tbody tr th:only-of-type {\n",
       "        vertical-align: middle;\n",
       "    }\n",
       "\n",
       "    .dataframe tbody tr th {\n",
       "        vertical-align: top;\n",
       "    }\n",
       "\n",
       "    .dataframe thead th {\n",
       "        text-align: right;\n",
       "    }\n",
       "</style>\n",
       "<table border=\"1\" class=\"dataframe\">\n",
       "  <thead>\n",
       "    <tr style=\"text-align: right;\">\n",
       "      <th></th>\n",
       "      <th>dt</th>\n",
       "      <th>AverageTemperature</th>\n",
       "      <th>AverageTemperatureUncertainty</th>\n",
       "      <th>City</th>\n",
       "      <th>Country</th>\n",
       "      <th>Latitude</th>\n",
       "      <th>Longitude</th>\n",
       "    </tr>\n",
       "  </thead>\n",
       "  <tbody>\n",
       "    <tr>\n",
       "      <th>47555</th>\n",
       "      <td>1820-01-01</td>\n",
       "      <td>2.101</td>\n",
       "      <td>3.217</td>\n",
       "      <td>Abilene</td>\n",
       "      <td>United States</td>\n",
       "      <td>32.95N</td>\n",
       "      <td>100.53W</td>\n",
       "    </tr>\n",
       "    <tr>\n",
       "      <th>47556</th>\n",
       "      <td>1820-02-01</td>\n",
       "      <td>6.926</td>\n",
       "      <td>2.853</td>\n",
       "      <td>Abilene</td>\n",
       "      <td>United States</td>\n",
       "      <td>32.95N</td>\n",
       "      <td>100.53W</td>\n",
       "    </tr>\n",
       "    <tr>\n",
       "      <th>47557</th>\n",
       "      <td>1820-03-01</td>\n",
       "      <td>10.767</td>\n",
       "      <td>2.395</td>\n",
       "      <td>Abilene</td>\n",
       "      <td>United States</td>\n",
       "      <td>32.95N</td>\n",
       "      <td>100.53W</td>\n",
       "    </tr>\n",
       "    <tr>\n",
       "      <th>47558</th>\n",
       "      <td>1820-04-01</td>\n",
       "      <td>17.989</td>\n",
       "      <td>2.202</td>\n",
       "      <td>Abilene</td>\n",
       "      <td>United States</td>\n",
       "      <td>32.95N</td>\n",
       "      <td>100.53W</td>\n",
       "    </tr>\n",
       "    <tr>\n",
       "      <th>47559</th>\n",
       "      <td>1820-05-01</td>\n",
       "      <td>21.809</td>\n",
       "      <td>2.036</td>\n",
       "      <td>Abilene</td>\n",
       "      <td>United States</td>\n",
       "      <td>32.95N</td>\n",
       "      <td>100.53W</td>\n",
       "    </tr>\n",
       "  </tbody>\n",
       "</table>\n",
       "</div>"
      ],
      "text/plain": [
       "               dt  AverageTemperature  AverageTemperatureUncertainty     City  \\\n",
       "47555  1820-01-01               2.101                          3.217  Abilene   \n",
       "47556  1820-02-01               6.926                          2.853  Abilene   \n",
       "47557  1820-03-01              10.767                          2.395  Abilene   \n",
       "47558  1820-04-01              17.989                          2.202  Abilene   \n",
       "47559  1820-05-01              21.809                          2.036  Abilene   \n",
       "\n",
       "             Country Latitude Longitude  \n",
       "47555  United States   32.95N   100.53W  \n",
       "47556  United States   32.95N   100.53W  \n",
       "47557  United States   32.95N   100.53W  \n",
       "47558  United States   32.95N   100.53W  \n",
       "47559  United States   32.95N   100.53W  "
      ]
     },
     "execution_count": 56,
     "metadata": {},
     "output_type": "execute_result"
    }
   ],
   "source": [
    "temperature_df.head()"
   ]
  },
  {
   "cell_type": "code",
   "execution_count": 57,
   "metadata": {},
   "outputs": [
    {
     "data": {
      "text/plain": [
       "(687289, 7)"
      ]
     },
     "execution_count": 57,
     "metadata": {},
     "output_type": "execute_result"
    }
   ],
   "source": [
    "temperature_df.shape"
   ]
  },
  {
   "cell_type": "code",
   "execution_count": 58,
   "metadata": {},
   "outputs": [
    {
     "data": {
      "text/plain": [
       "0"
      ]
     },
     "execution_count": 58,
     "metadata": {},
     "output_type": "execute_result"
    }
   ],
   "source": [
    "# Check for duplicate rows\n",
    "len(temperature_df[temperature_df.duplicated(keep='first')])"
   ]
  },
  {
   "cell_type": "code",
   "execution_count": 59,
   "metadata": {},
   "outputs": [
    {
     "data": {
      "image/png": "[encoded data removed]",
      "text/plain": [
       "<Figure size 1080x360 with 1 Axes>"
      ]
     },
     "metadata": {
      "needs_background": "light"
     },
     "output_type": "display_data"
    }
   ],
   "source": [
    "show_col_nan(temperature_df)"
   ]
  },
  {
   "cell_type": "code",
   "execution_count": 60,
   "metadata": {},
   "outputs": [],
   "source": [
    "# Remove rows with null in either AverageTemperature column\n",
    "# or AverageTemperatureUncertainty column\n",
    "temperature_df = temperature_df[\n",
    "               ~(temperature_df[\"AverageTemperature\"].isnull() |\n",
    "                 temperature_df[\"AverageTemperatureUncertainty\"].isnull())]"
   ]
  },
  {
   "cell_type": "code",
   "execution_count": 61,
   "metadata": {},
   "outputs": [
    {
     "data": {
      "text/plain": [
       "(661524, 7)"
      ]
     },
     "execution_count": 61,
     "metadata": {},
     "output_type": "execute_result"
    }
   ],
   "source": [
    "temperature_df.shape"
   ]
  },
  {
   "cell_type": "code",
   "execution_count": 62,
   "metadata": {},
   "outputs": [],
   "source": [
    "# Add id column\n",
    "temperature_df.insert(0, \"id\", range(0, len(temperature_df)))"
   ]
  },
  {
   "cell_type": "code",
   "execution_count": 63,
   "metadata": {},
   "outputs": [
    {
     "name": "stdout",
     "output_type": "stream",
     "text": [
      "['id', 'dt', 'AverageTemperature', 'AverageTemperatureUncertainty', 'City', 'Country', 'Latitude', 'Longitude']\n"
     ]
    }
   ],
   "source": [
    "print(list(temperature_df.columns))"
   ]
  },
  {
   "cell_type": "code",
   "execution_count": 64,
   "metadata": {},
   "outputs": [],
   "source": [
    "# Save temperature fact data to filesystem\n",
    "# temperature_df.to_parquet(TEMP_OUTPUT_FILE)"
   ]
  },
  {
   "cell_type": "code",
   "execution_count": 65,
   "metadata": {},
   "outputs": [],
   "source": [
    "del temperature_df"
   ]
  },
  {
   "cell_type": "code",
   "execution_count": null,
   "metadata": {},
   "outputs": [],
   "source": []
  },
  {
   "cell_type": "code",
   "execution_count": 66,
   "metadata": {},
   "outputs": [],
   "source": [
    "# Write to parquet\n",
    "# df_spark.write.parquet(\"sas_data\")\n",
    "# spark_df=spark.read.parquet(\"sas_data\")"
   ]
  },
  {
   "cell_type": "code",
   "execution_count": 67,
   "metadata": {},
   "outputs": [],
   "source": [
    "# Drop duplicate rows\n",
    "# spark_df = spark_df.dropDuplicates()"
   ]
  },
  {
   "cell_type": "markdown",
   "metadata": {},
   "source": [
    "### Step 2: Explore and Assess the Data\n",
    "#### Explore the Data \n",
    "Identify data quality issues, like missing values, duplicate data, etc.\n",
    "\n",
    "Quality related statistics such as number of nulls in columns and number of duplicate data have been shown in the code windows above.\n",
    "\n",
    "#### Cleaning Steps\n",
    "Document steps necessary to clean the data\n",
    "\n",
    "The cleaning steps will be provided for the different datasets in this project.\n",
    "\n",
    "1) airport-codes_csv.csv:\n",
    "- Filter dataset and retain only US datapoints.\n",
    "- Remove duplicate rows if exists.\n",
    "- Save airport dimension data to filesystem as the `dwh/airport.parquet` file. \n",
    "\n",
    "2) us-cities-demographics.csv: \n",
    "- Remove duplicate rows in dataset if exist.\n",
    "- Convert dataset from the long to wide formatto create the cities dimension table. \n",
    "- Add an identity key column to the dataset.\n",
    "- Save dimension data as the `dwh/city_demography.parquet` file.\n",
    "\n",
    "3) I94 Immigration Data:\n",
    "- Remove duplicate rows if exist.\n",
    "- Create new label columns from description file to denormalise dataset.\n",
    "- Save fact table to the `dwh/immigration.parquet` file.\n",
    "\n",
    "4) World Temperature Data\n",
    "- Filter dataset and retain only US datapoints.\n",
    "- Remove duplicate rows if exists.\n",
    "- Remove rows with null in either the AverageTemperature column or the AverageTemperatureUncertainty column.\n",
    "- Add identity column to dataset.\n",
    "- Save temperature fact to the `dwh/temperature.parquet` file."
   ]
  },
  {
   "cell_type": "code",
   "execution_count": null,
   "metadata": {},
   "outputs": [],
   "source": []
  },
  {
   "cell_type": "code",
   "execution_count": 68,
   "metadata": {},
   "outputs": [],
   "source": [
    "# Performing cleaning tasks here\n",
    "def process_airport_data(input_file:str, output_file:str):\n",
    "    \"\"\" Extract aiport data, clean, and save dimension data as parquet\n",
    "        file.\n",
    "    Args:\n",
    "        input_file (str): The filename of source data.\n",
    "        output_file (str): The location to save dimension data.\n",
    "    Returns:\n",
    "        None\n",
    "    \"\"\"\n",
    "    \n",
    "    # Read in the data here\n",
    "    airport_df = pd.read_csv(input_file)\n",
    "    \n",
    "    # Filter for US data\n",
    "    airport_df = airport_df[airport_df['iso_country'] == \"US\"]\n",
    "    \n",
    "    # Remove closed airports\n",
    "    airport_df = airport_df[airport_df['type'] != \"closed\"]\n",
    "    \n",
    "    # Add id column\n",
    "    airport_df.insert(0, \"id\", \"\")\n",
    "    \n",
    "    # Clean the ident column\n",
    "    airport_df[\"id\"] = airport_df[\"ident\"].apply(lambda x: clean_port(x))\n",
    "    \n",
    "    # Drop duplicates\n",
    "    airport_df = airport_df[~airport_df.duplicated(keep='first')]\n",
    "    \n",
    "    # Save airport dimension data to filesystem\n",
    "    airport_df.to_parquet(output_file)\n",
    "    \n",
    "    # Delete dataframe to free up memory\n",
    "    del airport_df"
   ]
  },
  {
   "cell_type": "code",
   "execution_count": 69,
   "metadata": {},
   "outputs": [],
   "source": [
    "def process_demography_data(input_file:str, output_file:str):\n",
    "    \"\"\" Extract city demography data, clean, and save city dimension \n",
    "        data in parquet file format.\n",
    "    Args:\n",
    "        input_file (str): The filename of source data.\n",
    "        output_file (str): The location to save dimension data.\n",
    "    Returns:\n",
    "        None\n",
    "    \"\"\"\n",
    "    \n",
    "    # Read in city demographic data here\n",
    "    city_demo_df = pd.read_csv(input_file, \n",
    "                               delimiter=\";\")\n",
    "    # Remove duplicate rows\n",
    "    city_demo_df = city_demo_df[~city_demo_df.duplicated(keep='first')]\n",
    "    \n",
    "    # Convert dataset from long to wide form and \n",
    "    # create identity column for dataset\n",
    "    list_index = list(city_demo_df.columns)[:-2]\n",
    "    city_demo_df = city_demo_df.pivot(index=list_index, columns='Race', values='Count').reset_index().reset_index()\n",
    "    city_demo_df.rename(columns={'index': 'id'}, inplace=True)\n",
    "    city_demo_df.columns.name = None\n",
    "    \n",
    "    # Save city demography dimension data to filesystem\n",
    "    city_demo_df.to_parquet(output_file)\n",
    "    \n",
    "    # Delete from memory\n",
    "    del city_demo_df"
   ]
  },
  {
   "cell_type": "code",
   "execution_count": 70,
   "metadata": {},
   "outputs": [],
   "source": [
    "def process_immigration_data(input_directory:str, output_file:str):\n",
    "    \"\"\" Extract immigration data, clean, and save fact \n",
    "        data in parquet file format.\n",
    "    Args:\n",
    "        input_directory (str): The directory containing input sas data.\n",
    "        output_file (str): The location to save fact data.\n",
    "    Returns:\n",
    "        None\n",
    "    \"\"\"\n",
    "    # Read in immigration data\n",
    "    parquet_df = pd.read_parquet(input_directory, engine='pyarrow')\n",
    "    \n",
    "    # Remove duplicate rows\n",
    "    parquet_df = parquet_df[~parquet_df.duplicated(keep='first')]\n",
    "    \n",
    "    # Create new columns from description file\n",
    "    # i94cit_label\n",
    "    dict_label = read_label('I94_SAS_Labels_Descriptions.SAS', l1=9, l2=297)\n",
    "    parquet_df['i94cit_label'] = parquet_df['i94cit'].apply(\n",
    "                                 lambda x: dict_label.get(str(int(x))) if (x is not None)\n",
    "                                 else None)\n",
    "\n",
    "    # i94res_label\n",
    "    dict_label = read_label('I94_SAS_Labels_Descriptions.SAS', l1=9, l2=297)\n",
    "    parquet_df['i94res_label'] = parquet_df['i94res'].apply(\n",
    "                                 lambda x: dict_label.get(str(int(x))) if x is not None \n",
    "                                 else None)\n",
    "\n",
    "    # i94port_label\n",
    "    dict_label = read_label('I94_SAS_Labels_Descriptions.SAS', l1=302, l2=961)\n",
    "    parquet_df['i94port_label'] = parquet_df['i94port'].apply(\n",
    "                                  lambda x: dict_label.get(x))\n",
    "\n",
    "    # i94mode_label\n",
    "    dict_label = read_label('I94_SAS_Labels_Descriptions.SAS', l1=972, l2=975)\n",
    "    parquet_df['i94mode_label'] = parquet_df['i94mode'].apply(\n",
    "                                  lambda x: dict_label.get(str(int(x))) if (not np.isnan(x))\n",
    "                                  else None)\n",
    "\n",
    "    # i94addr_label\n",
    "    dict_label = read_label('I94_SAS_Labels_Descriptions.SAS', l1=981, l2=1035)\n",
    "    parquet_df['i94addr_label'] = parquet_df['i94addr'].apply(\n",
    "                                  lambda x: dict_label.get(x))\n",
    "\n",
    "    # i94visa_label\n",
    "    dict_label = read_label('I94_SAS_Labels_Descriptions.SAS', l1=1046, l2=1048)\n",
    "    parquet_df['i94visa_label'] = parquet_df['i94visa'].apply(\n",
    "                                  lambda x: dict_label.get(str(int(x))) if \n",
    "                                  (not np.isnan(x)) else None)\n",
    "    \n",
    "    # Save immigration fact data to filesystem\n",
    "    parquet_df.to_parquet(output_file)\n",
    "    \n",
    "    # Delete dataframe\n",
    "    del parquet_df"
   ]
  },
  {
   "cell_type": "code",
   "execution_count": 71,
   "metadata": {},
   "outputs": [],
   "source": [
    "def process_temperature_data(input_file:str, output_file:str):\n",
    "    \"\"\" Extract city temperature data, clean, and save fact \n",
    "        data in parquet file format.\n",
    "    Args:\n",
    "        input_file (str): The source filename.\n",
    "        output_file (str): The location to save fact data.\n",
    "    Returns:\n",
    "        None\n",
    "    \"\"\"\n",
    "    \n",
    "    # Read in the city temperature data here\n",
    "    temperature_df = pd.read_csv(input_file)\n",
    "    \n",
    "    # Filter for US data\n",
    "    temperature_df = temperature_df[\n",
    "                     temperature_df['Country'] == \"United States\"]\n",
    "    \n",
    "    # Remove duplq1`icate rows\n",
    "    temperature_df = temperature_df[\n",
    "                    ~temperature_df.duplicated(keep='first')]\n",
    "    \n",
    "    # Remove rows with null in either AverageTemperature column\n",
    "    # or AverageTemperatureUncertainty column\n",
    "    temperature_df = temperature_df[\n",
    "                   ~(temperature_df[\"AverageTemperature\"].isnull() |\n",
    "                     temperature_df[\"AverageTemperatureUncertainty\"].isnull())]\n",
    "    \n",
    "    \n",
    "    # Add id column\n",
    "    temperature_df.insert(0, \"id\", range(0, len(temperature_df)))\n",
    "    \n",
    "    # Save temperature fact data to filesystem\n",
    "    temperature_df.to_parquet('dwh/temperature.parquet')\n",
    "    \n",
    "    # Delete dataframe\n",
    "    del temperature_df"
   ]
  },
  {
   "cell_type": "markdown",
   "metadata": {},
   "source": [
    "### Step 3: Define the Data Model\n",
    "#### 3.1 Conceptual Data Model\n",
    "Map out the conceptual data model and explain why you chose that model\n",
    "\n",
    "The data model to be implemented is the star schema. The purpose of this project is to analyse big data and the star schema is best suited for analytical tasks. Given its simplicity, the star schema is efficient in capturing business requirements, minimises the number of joins required in queries, and also allows for partitioning.\n",
    "\n",
    "The data model will consist of the `airport` and `city_demography` dimension tables as well as the `immigration` and `temperature` fact table.\n",
    "\n",
    "**Dimension Tables:**\n",
    "1. airport\n",
    "    |     | airport | \n",
    "    | --- | --------|\n",
    "    |PK|id|\n",
    "    ||ident|\n",
    "    ||type|\n",
    "    ||name|\n",
    "    ||elevation_ft|\n",
    "    ||continent|\n",
    "    ||iso_country|\n",
    "    ||iso_region|\n",
    "    ||municipality|\n",
    "    ||gps_code|\n",
    "    ||iata_code|\n",
    "    ||local_code|\n",
    "    ||coordinates|\n",
    "\n",
    "2. city_demography\n",
    "    |     | city_demography | \n",
    "    | --- | --------|\n",
    "    ||id|\n",
    "    |PK|City|\n",
    "    |PK|State|\n",
    "    ||Median Age|\n",
    "    ||Male Population|\n",
    "    ||Female Population|\n",
    "    ||Total Population|\n",
    "    ||Number of Veterans|\n",
    "    ||Foreign-born|\n",
    "    ||Average Household Size|\n",
    "    ||State Code|\n",
    "    ||American Indian and Alaska Native|\n",
    "    ||Asian|\n",
    "    ||Black or African-American|\n",
    "    ||Hispanic or Latino|\n",
    "    ||White|\n",
    "\n",
    "**Fact Tables:**\n",
    "1. immigration\n",
    "    |     | immigration | \n",
    "    | --- | --------|\n",
    "    ||cicid|\n",
    "    ||i94yr|\n",
    "    ||i94mon|\n",
    "    ||i94cit|\n",
    "    ||i94res|\n",
    "    |FK|i94port|\n",
    "    ||arrdate|\n",
    "    ||i94mode|\n",
    "    |FK|i94addr|\n",
    "    ||depdate|\n",
    "    ||i94bir|\n",
    "    ||i94visa|\n",
    "    ||count|\n",
    "    ||dtadfile|\n",
    "    ||visapost|\n",
    "    ||occup|\n",
    "    ||entdepa|\n",
    "    ||entdepd|\n",
    "    ||entdepu|\n",
    "    ||matflag|\n",
    "    ||biryear|\n",
    "    ||dtaddto|\n",
    "    ||gender|\n",
    "    ||insnum|\n",
    "    ||airline|\n",
    "    ||admnum|\n",
    "    ||fltno|\n",
    "    ||visatype|\n",
    "    ||i94cit_label|\n",
    "    ||i94res_label|\n",
    "    ||i94port_label|\n",
    "    ||i94mode_label|\n",
    "    |FK|i94addr_label|\n",
    "    ||i94visa_label|\n",
    "\n",
    "2. temperature\n",
    "    |     | temperature | \n",
    "    | --- | ------------|\n",
    "    ||id|\n",
    "    ||dt|\n",
    "    ||AverageTemperature|\n",
    "    ||AverageTemperatureUncertainty|\n",
    "    |FK|City|\n",
    "    ||Country|\n",
    "    ||Latitude|\n",
    "    ||Longitude|\n",
    "\n",
    "#### 3.2 Mapping Out Data Pipelines\n",
    "List the steps necessary to pipeline the data into the chosen data model\n",
    "\n",
    "The steps required to create the data model from the available files include: \n",
    "- Extract relevant columns and rows from the airport-codes_csv.csv file to create the airport dimension table. \n",
    "- Create city dimension table from the us-cities-demographics.csv file.\n",
    "- Build the immigration fact table from the parquet files in the sas_data directory.\n",
    "- Create temperature fact table from the GlobalLandTemperaturesByCity.csv file."
   ]
  },
  {
   "cell_type": "markdown",
   "metadata": {},
   "source": [
    "### Step 4: Run Pipelines to Model the Data \n",
    "#### 4.1 Create the data model\n",
    "Build the data pipelines to create the data model."
   ]
  },
  {
   "cell_type": "code",
   "execution_count": 72,
   "metadata": {},
   "outputs": [],
   "source": [
    "def data_pipeline():\n",
    "    \"\"\" The pipeline function for creating data model.\n",
    "    \"\"\"\n",
    "    process_airport_data(AIRPORT_INPUT_FILE, AIRPORT_OUTPUT_FILE)\n",
    "    \n",
    "    process_demography_data(CITY_DEMO_INPUT_FILE, CITY_DEMO_OUTPUT_FILE)\n",
    "    \n",
    "    process_immigration_data(I94_INPUT_FILE, I94_OUTPUT_FILE)\n",
    "    \n",
    "    process_temperature_data(TEMP_INPUT_FILE, TEMP_OUTPUT_FILE)"
   ]
  },
  {
   "cell_type": "code",
   "execution_count": 73,
   "metadata": {},
   "outputs": [],
   "source": [
    "data_pipeline()"
   ]
  },
  {
   "cell_type": "markdown",
   "metadata": {},
   "source": [
    "#### 4.2 Data Quality Checks\n",
    "Explain the data quality checks you'll perform to ensure the pipeline ran as expected. These could include:\n",
    " * Integrity constraints on the relational database (e.g., unique key, data type, etc.)\n",
    " * Unit tests for the scripts to ensure they are doing the right thing\n",
    " * Source/Count checks to ensure completeness\n",
    " \n",
    "Run Quality Checks"
   ]
  },
  {
   "cell_type": "code",
   "execution_count": 74,
   "metadata": {},
   "outputs": [],
   "source": [
    "# Perform quality checks here\n",
    "def get_row_count(input_file:str):\n",
    "    \"\"\" Read in the input dataset in sas format and \n",
    "        print the row count.\n",
    "    Args:\n",
    "        input_file (str): The sas dataset filename.\n",
    "    Returns:\n",
    "        None\n",
    "    \"\"\"\n",
    "    spark_df=spark.read.parquet(input_file)\n",
    "    row_count = spark_df.count()\n",
    "    if row_count <= 0:\n",
    "        raise ValueError(f\"Data quality check failed, {input_file} \\\n",
    "                           has no records.\")\n",
    "    print(f\"Data quality check for {input_file} passed with\"+ \\\n",
    "          f\" {row_count} records.\")"
   ]
  },
  {
   "cell_type": "code",
   "execution_count": 75,
   "metadata": {},
   "outputs": [
    {
     "name": "stdout",
     "output_type": "stream",
     "text": [
      "Data quality check for dwh/airport.parquet passed with 21431 records.\n",
      "Data quality check for dwh/city_demography.parquet passed with 596 records.\n",
      "Data quality check for dwh/immigration.parquet passed with 3096313 records.\n",
      "Data quality check for dwh/temperature.parquet passed with 661524 records.\n"
     ]
    }
   ],
   "source": [
    "get_row_count(AIRPORT_OUTPUT_FILE)\n",
    "get_row_count(CITY_DEMO_OUTPUT_FILE)\n",
    "get_row_count(I94_OUTPUT_FILE)\n",
    "get_row_count(TEMP_OUTPUT_FILE)"
   ]
  },
  {
   "cell_type": "markdown",
   "metadata": {},
   "source": [
    "#### 4.3 Data dictionary \n",
    "Create a data dictionary for your data model. For each field, provide a brief description of what the data is and where it came from. You can include the data dictionary in the notebook or in a separate file."
   ]
  },
  {
   "cell_type": "code",
   "execution_count": null,
   "metadata": {},
   "outputs": [],
   "source": []
  },
  {
   "cell_type": "markdown",
   "metadata": {},
   "source": [
    "| Table name | Columns | Description | Type |\n",
    "| ------- | ---------- | ----------- | ---- |\n",
    "| airport | id, ident, type, name, elevation_ft, continent, iso_country, iso_region, municipality, gps_code, iata_code, local_code, coordinates | The dimension table with attributes of US airports | Dimension table |\n",
    "| city_demography | id, City, State, Median Age, Male Population, Female Population,Total Population, Number of Veterans, Foreign-born, Average Household Size, State Code, American Indian and Alaska Native, Asian, Black or African-American, Hispanic or Latino, White | A dimension table of US cities' demographic information | Dimension table |\n",
    "| immigration | cicid, i94yr, i94mon, i94cit, i94res, i94port, arrdate, i94mode, i94addr, depdate, i94bir, i94visa, count, dtadfile, visapost, occup, entdepa, entdepd, entdepu, matflag, biryear, dtaddto, gender, insnum, airline, admnum, fltno, visatype, i94cit_label, i94res_label, i94port_label, i94mode_label, i94addr_label, i94visa_label | A fact table that contains information on i94 immigration | Fact table |\n",
    "| temperature | id, dt, AverageTemperature, AverageTemperatureUncertainty, City, Country, Latitude, Longitude | Fact table for temperature measurements in US cities | Fact table |"
   ]
  },
  {
   "cell_type": "code",
   "execution_count": null,
   "metadata": {},
   "outputs": [],
   "source": []
  },
  {
   "cell_type": "markdown",
   "metadata": {},
   "source": [
    "#### Step 5: Complete Project Write Up\n",
    "* Clearly state the rationale for the choice of tools and technologies for the project.\n",
    "* Propose how often the data should be updated and why.\n",
    "* Write a description of how you would approach the problem differently under the following scenarios:\n",
    " * The data was increased by 100x.\n",
    " * The data populates a dashboard that must be updated on a daily basis by 7am every day.\n",
    " * The database needed to be accessed by 100+ people."
   ]
  },
  {
   "cell_type": "markdown",
   "metadata": {},
   "source": [
    "#### Rationale for Choice of Tools\n",
    "The Pandas dataframe has been the preferred choice for the creation of the data model in this project. Although there has been some use of Pyspark, it is done just to have variety. With the ever increasing capacity of computing machines, it now possible to handle millions of records with Pandas. Pandas is a quick solution, and is effective when dealing with less than 10 million records in a standalone computer. "
   ]
  },
  {
   "cell_type": "markdown",
   "metadata": {},
   "source": [
    "#### Data Updates\n",
    "Data should be updated periodically as corresponding changes occur in the real world. For example city codes can be updated, company stock name can change after mergers or acquisition, this changes should be made to the dataset to maintain consistency and high data quality."
   ]
  },
  {
   "cell_type": "markdown",
   "metadata": {},
   "source": [
    "#### 100x Increase in Data\n",
    "For an exponential increase in the raw data, a big data technology such as Pyspark will be more suitable for data processing. A standalone tecnology like Pandas will be too slow to handle such high volumes. Other big data technologies that can be considered include AWS Redshift, and Snowflake."
   ]
  },
  {
   "cell_type": "markdown",
   "metadata": {},
   "source": [
    "#### Daily Updates\n",
    "If periodic updates are required, then the data pipeline needs to be triggered periodically too. A data pipeline management tool like Airflow would be suitable to manage the process of running the data pipeline intermittently."
   ]
  },
  {
   "cell_type": "markdown",
   "metadata": {},
   "source": [
    "#### Multiple Accesses\n",
    "Where the data needs to be accessed by many people in an organisation, then the data should be hosted in online data warehouse in tools such as the AWS S3, or AWS Redshift and users should be granted access based on the least privilege principle."
   ]
  },
  {
   "cell_type": "markdown",
   "metadata": {},
   "source": [
    "#### Example Query\n",
    "What is the municipality of the ports in the top 5 of the highest number of I94 entries in the dataset?"
   ]
  },
  {
   "cell_type": "code",
   "execution_count": 76,
   "metadata": {},
   "outputs": [],
   "source": [
    "airport_df_spark = spark.read.parquet(AIRPORT_OUTPUT_FILE)\n",
    "immigration_df_spark = spark.read.parquet(I94_OUTPUT_FILE)"
   ]
  },
  {
   "cell_type": "code",
   "execution_count": 77,
   "metadata": {},
   "outputs": [],
   "source": [
    "airport_df_spark.createOrReplaceTempView(\"tbl_airport\")\n",
    "immigration_df_spark.createOrReplaceTempView(\"tbl_i94\")"
   ]
  },
  {
   "cell_type": "code",
   "execution_count": 78,
   "metadata": {},
   "outputs": [
    {
     "name": "stdout",
     "output_type": "stream",
     "text": [
      "+----+------------+------+\n",
      "|port|municipality| count|\n",
      "+----+------------+------+\n",
      "| MIA|       Miami|343941|\n",
      "| ORL|     Orlando|149195|\n",
      "| HHW|        Hugo|142720|\n",
      "| NEW| New Orleans|136122|\n",
      "| HOU|     Houston|101481|\n",
      "+----+------------+------+\n",
      "\n"
     ]
    }
   ],
   "source": [
    "spark.sql(\"\"\"\n",
    "            SELECT i.i94port AS port, \n",
    "                    first(a.municipality) AS municipality, \n",
    "                    COUNT(i.i94port) AS count\n",
    "            FROM tbl_i94 AS i\n",
    "            INNER JOIN tbl_airport AS a\n",
    "            ON i.i94port = a.id\n",
    "            GROUP BY i.i94port\n",
    "            ORDER BY count DESC\n",
    "            LIMIT 5\"\"\").show()"
   ]
  },
  {
   "cell_type": "code",
   "execution_count": null,
   "metadata": {},
   "outputs": [],
   "source": []
  }
 ],
 "metadata": {
  "kernelspec": {
   "display_name": "Python 3",
   "language": "python",
   "name": "python3"
  },
  "language_info": {
   "codemirror_mode": {
    "name": "ipython",
    "version": 3
   },
   "file_extension": ".py",
   "mimetype": "text/x-python",
   "name": "python",
   "nbconvert_exporter": "python",
   "pygments_lexer": "ipython3",
   "version": "3.6.15"
  }
 },
 "nbformat": 4,
 "nbformat_minor": 4
}
